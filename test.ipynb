{
 "cells": [
  {
   "cell_type": "code",
   "execution_count": 3,
   "id": "5b90fece",
   "metadata": {},
   "outputs": [],
   "source": [
    "from collections import Counter\n",
    "import re\n",
    "import math"
   ]
  },
  {
   "cell_type": "markdown",
   "id": "3ec20646",
   "metadata": {},
   "source": [
    "1. Recieve the prior belief from user"
   ]
  },
  {
   "cell_type": "code",
   "execution_count": 4,
   "id": "4c8eb4f5",
   "metadata": {},
   "outputs": [],
   "source": [
    "P_A = float(input(\"On a scale from 0 to 1, how likely do you think the text was written by A? (Enter 0.5 if you're unsure): \"))\n",
    "P_B = 1 - P_A"
   ]
  },
  {
   "cell_type": "markdown",
   "id": "8857e09b",
   "metadata": {},
   "source": [
    "2. Construct the probability dictionary of text_A.txt and text_B.txt"
   ]
  },
  {
   "cell_type": "code",
   "execution_count": 5,
   "id": "ace21f3d",
   "metadata": {},
   "outputs": [],
   "source": [
    "def get_word_probabilities(filename):\n",
    "    with open(filename, \"r\", encoding=\"utf-8\") as f:\n",
    "        text = f.read().lower()\n",
    "    words = re.findall(r'\\b\\w+\\b', text)\n",
    "    word_counts = Counter(words)\n",
    "    total_words = sum(word_counts.values())\n",
    "    return {word: count / total_words for word, count in word_counts.items()}"
   ]
  },
  {
   "cell_type": "code",
   "execution_count": 6,
   "id": "09b26531",
   "metadata": {},
   "outputs": [],
   "source": [
    "prob_dict_A = get_word_probabilities(\"text_A.txt\")\n",
    "prob_dict_B = get_word_probabilities(\"text_B.txt\")"
   ]
  },
  {
   "cell_type": "markdown",
   "id": "89223f21",
   "metadata": {},
   "source": [
    "3. Construct the word counts dictionary of text.txt"
   ]
  },
  {
   "cell_type": "code",
   "execution_count": 119,
   "id": "86a3a632",
   "metadata": {},
   "outputs": [],
   "source": [
    "# Read file text.txt and tokenize words\n",
    "with open(\"text.txt\", \"r\", encoding=\"utf-8\") as f:\n",
    "    text = f.read().lower()\n",
    "\n",
    "# remove punctuation\n",
    "words = re.findall(r'\\b\\w+\\b', text)\n",
    "\n",
    "# Count word frequencies\n",
    "word_counts_dict = Counter(words)"
   ]
  },
  {
   "cell_type": "markdown",
   "id": "05e0d719",
   "metadata": {},
   "source": [
    "4. Calculate the logratio"
   ]
  },
  {
   "cell_type": "code",
   "execution_count": 120,
   "id": "ae5f4990",
   "metadata": {},
   "outputs": [],
   "source": [
    "log_ratio = 0\n",
    "epsilon = 1e-6 \n",
    "\n",
    "for word in word_counts_dict:\n",
    "    p_A_word = prob_dict_A.get(word, epsilon)\n",
    "    p_B_word = prob_dict_B.get(word, epsilon)\n",
    "    \n",
    "    log_ratio += word_counts_dict[word] * (math.log(p_A_word) - math.log(p_B_word))"
   ]
  },
  {
   "cell_type": "markdown",
   "id": "7a84385c",
   "metadata": {},
   "source": [
    "6. Calculate $P(A \\mid T)$ and $P(B \\mid T)$"
   ]
  },
  {
   "cell_type": "code",
   "execution_count": 121,
   "id": "a24c4b3a",
   "metadata": {},
   "outputs": [],
   "source": [
    "if log_ratio < -100:\n",
    "    updated_P_A = 0\n",
    "elif log_ratio > 100:\n",
    "    updated_P_A = 1\n",
    "else:\n",
    "    ratio = math.exp(log_ratio)\n",
    "    updated_P_A = 1 / (1 + 1 / (ratio * P_A / P_B)) if ratio != 0 else 0\n"
   ]
  },
  {
   "cell_type": "markdown",
   "id": "b1b6dbe1",
   "metadata": {},
   "source": [
    "7. Print the result"
   ]
  },
  {
   "cell_type": "code",
   "execution_count": 123,
   "id": "3c4de171",
   "metadata": {},
   "outputs": [
    {
     "name": "stdout",
     "output_type": "stream",
     "text": [
      "The probability that the text was written by A is: 1.00\n",
      "The probability that the text was written by B is: 0.00\n"
     ]
    }
   ],
   "source": [
    "print(\"The probability that the text was written by A is: {:.2f}\".format(updated_P_A))\n",
    "print(\"The probability that the text was written by B is: {:.2f}\".format(1 - updated_P_A))"
   ]
  }
 ],
 "metadata": {
  "kernelspec": {
   "display_name": "base",
   "language": "python",
   "name": "python3"
  },
  "language_info": {
   "codemirror_mode": {
    "name": "ipython",
    "version": 3
   },
   "file_extension": ".py",
   "mimetype": "text/x-python",
   "name": "python",
   "nbconvert_exporter": "python",
   "pygments_lexer": "ipython3",
   "version": "3.12.9"
  }
 },
 "nbformat": 4,
 "nbformat_minor": 5
}
